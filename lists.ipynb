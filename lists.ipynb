{
 "cells": [
  {
   "cell_type": "markdown",
   "metadata": {},
   "source": [
    "Overview of lists in python.  \n",
    "-> this notebook will go over how lists work in python: The data structure, accessing elements, slicing, and iterating. Won't go over list functions in this notebook since that will be the next notebook I create \n",
    "author: Jack Crosby"
   ]
  },
  {
   "cell_type": "markdown",
   "metadata": {},
   "source": [
    "Python Lists: dynamically sized arrays. \n",
    "- a vector in c++\n",
    "- an ArrayList in java\n",
    "\n",
    "What's a dynamically sized array?\n",
    "- \"an array with a big improvement: automatic resizing. One limitation of arrays is that they're fixed size, meaning you need to specify the number of elements your array will hold ahead of time. A dynamic array expands as you add more elements. So you don't need to determine the size ahead of time.\"\n",
    "- definition source:\n",
    "Dynamic Array Data Structure - Interview Cake\n",
    "\n",
    "Interview Cake\n",
    "https://www.interviewcake.com › concept › java › dyna...\n",
    "\n",
    "- The basic idea of resizing a dynamic array is to create a new array with a different capacity and copy the elements from the old array to the new one\n",
    "\n",
    "- \"it automatically grows when we try to make an insertion and there is no more space left for the new item. Usually the area doubles in size. A simple dynamic array can be constructed by allocating an array of fixed-size, typically larger than the number of elements immediately required. The elements of the dynamic array are stored contiguously at the start of the underlying array, and the remaining positions towards the end of the underlying array are reserved, or unused. Elements can be added at the end of a dynamic array in constant time by using the reserved space until this space is completely consumed. When all space is consumed, and an additional element is to be added, the underlying fixed-sized array needs to be increased in size. Typically resizing is expensive because you have to allocate a bigger array and copy over all of the elements from the array you have overgrow before we can finally append our item.\" - geeksforgeeks\n",
    "\n",
    "\n",
    "-Without the specifics above, we use lists to store multiple items in a single variable. It's just a collection of things.\n",
    "\n",
    "-A list can also contain a mix of Python types including strings, floats, and booleans. \n",
    "\n",
    "-So the difference between a list and an array is the size of the list is dynamically allocated (it automatically resizes itself by creating a new lists with a larger capacity with all the elements/items in the original list)\n"
   ]
  },
  {
   "cell_type": "code",
   "execution_count": 1,
   "metadata": {},
   "outputs": [],
   "source": [
    "# initializing a list of numbers\n",
    "list = [1 , 2 , 3 , 4 , 5]"
   ]
  },
  {
   "cell_type": "code",
   "execution_count": 2,
   "metadata": {},
   "outputs": [
    {
     "name": "stdout",
     "output_type": "stream",
     "text": [
      "1\n"
     ]
    }
   ],
   "source": [
    "# Accessing elements in the list\n",
    "print(list[0])  # Output: 1"
   ]
  },
  {
   "cell_type": "markdown",
   "metadata": {},
   "source": [
    "We can access the elements in multiple ways: \n",
    "- list[4] and list[-1] both = 5\n",
    "    - '-1' is the last element of the list, '-2' is 2nd to last and so on \n",
    "        - therefore '-n' where n is the number of elements of the list will access the first element of the list "
   ]
  },
  {
   "cell_type": "code",
   "execution_count": 5,
   "metadata": {},
   "outputs": [
    {
     "name": "stdout",
     "output_type": "stream",
     "text": [
      "5\n",
      "5\n",
      "True\n",
      "1\n"
     ]
    }
   ],
   "source": [
    "list = [1 , 2 , 3 , 4 , 5]\n",
    "print(list[4])  # Output: 5\n",
    "print(list[-1])  # Output: 5\n",
    "print(list[4] is list[-1])  # Output: True\n",
    "print(list[-5]) # Output: 1"
   ]
  },
  {
   "cell_type": "markdown",
   "metadata": {},
   "source": [
    "Slicing: \n",
    "- \"in order to access a range of elements in a list, you need to slice a list. One way to do this is to use the simple slicing operator i.e. colon(:). With this operator, one can specify where to start the slicing, where to end, and specify the step. List slicing returns a new list from the existing list.\" -geeksforgeeks\n",
    "\n",
    "Syntax:\n",
    "- list[start : end : IndexJump]\n",
    "    - start is inclusive \n",
    "    - end is exclusive \n",
    "    - IndexJump is optional, if you don't include it python will assume you are jumping by 1 index "
   ]
  },
  {
   "cell_type": "code",
   "execution_count": 8,
   "metadata": {},
   "outputs": [
    {
     "name": "stdout",
     "output_type": "stream",
     "text": [
      "[2, 3]\n",
      "[3, 4]\n",
      "[1, 3]\n"
     ]
    }
   ],
   "source": [
    "list = [1 , 2 , 3 , 4 , 5]\n",
    "print(list[1:3])  # Output: [2, 3]\n",
    "print(list[-3:-1]) # Output: [3, 4]\n",
    "print(list[0: 4: 2]) # Output: [1, 3]"
   ]
  },
  {
   "cell_type": "markdown",
   "metadata": {},
   "source": [
    "Additional slicing rules and cases \n",
    "- list[start: ]\n",
    "    - this will start at the index specified for 'start' and since we don't provide an 'end' index, it will go all the way to the end\n",
    "- list[ : end] \n",
    "    - same thing applies here but reverse. it will start at the first index and go all the way until the specified end index, only end is exclusive so it the last element printed is the index [end - 1]\n",
    "- list[ : ]\n",
    "    - this will just print the whole list \n",
    "- list[ : : IndexJump]\n",
    "    - this will go from beginning of the list to the end but jump by what you specify 'IndexJump' to be\n",
    "    - you can print the whole list in reverse order by simply list[ : : -1]"
   ]
  },
  {
   "cell_type": "code",
   "execution_count": 7,
   "metadata": {},
   "outputs": [
    {
     "name": "stdout",
     "output_type": "stream",
     "text": [
      "[2, 3, 4, 5]\n",
      "[1, 2, 3]\n",
      "[1, 2, 3, 4, 5]\n",
      "[1, 3, 5]\n",
      "[5, 4, 3, 2, 1]\n",
      "[5, 3, 1]\n"
     ]
    }
   ],
   "source": [
    "list = [1 , 2 , 3 , 4 , 5]\n",
    "print(list[1 : ]) # Output: [2, 3, 4, 5]\n",
    "print(list[ : 3]) # Output: [1, 2, 3]\n",
    "print(list[ : ]) # Output: [1, 2, 3, 4, 5]\n",
    "print(list[ : : 2]) # Output: [1, 3, 5]\n",
    "print(list[ : : -1]) # Output: [5, 4, 3, 2, 1]\n",
    "print(list[ : : -2]) # Output: [5, 3, 1]"
   ]
  },
  {
   "cell_type": "markdown",
   "metadata": {},
   "source": [
    "List Iterating \n",
    "- we can do a for loop by initialize a variable (literally just say 'i') and the variable will increment until the end of the list. \n",
    "    - 'for i in list' == 'for(int i = 0; i < len(list); i++)'\n",
    "- we can use the range function and use the length function: len()\n",
    "    - 'for i in list' == 'for(int i = 0; i < len(list); i++)'\n",
    "- the difference between the two above is the range function will just keep incrementing i until it's equal to the length of the list, and without the range function, i will increment until it reaches the end of the list. The only differene is one is being compared to a number we got from the range function and the other is compared to how long we can iterate over the list. This may not be the best explanation\n",
    "\n",
    "- we can use a while loop as well but you will have to initialize i and do the increment yourself "
   ]
  },
  {
   "cell_type": "code",
   "execution_count": 15,
   "metadata": {},
   "outputs": [
    {
     "name": "stdout",
     "output_type": "stream",
     "text": [
      "1\n",
      "2\n",
      "3\n",
      "4\n",
      "5\n"
     ]
    }
   ],
   "source": [
    "for i in list:\n",
    "    print(i) # Output: 1 \\n 2 \\n 3 \\n 4 \\n 5\n",
    "    # \\ n: new line"
   ]
  },
  {
   "cell_type": "code",
   "execution_count": 10,
   "metadata": {},
   "outputs": [
    {
     "name": "stdout",
     "output_type": "stream",
     "text": [
      "1\n",
      "2\n",
      "3\n",
      "4\n",
      "5\n"
     ]
    }
   ],
   "source": [
    "list = [1 , 2 , 3 , 4 , 5]\n",
    "for i in range(len(list)):\n",
    "    print(list[i]) # Output: 1 \\n 2 \\n 3 \\n 4 \\n 5"
   ]
  },
  {
   "cell_type": "code",
   "execution_count": 18,
   "metadata": {},
   "outputs": [
    {
     "name": "stdout",
     "output_type": "stream",
     "text": [
      "1\n",
      "2\n",
      "3\n",
      "4\n",
      "5\n"
     ]
    }
   ],
   "source": [
    "list = [1 , 2 , 3 , 4 , 5]\n",
    "i = 0\n",
    "while i < len(list):\n",
    "    print(list[i])\n",
    "    i += 1"
   ]
  },
  {
   "cell_type": "markdown",
   "metadata": {},
   "source": [
    "Checking if an element is in the list "
   ]
  },
  {
   "cell_type": "code",
   "execution_count": 11,
   "metadata": {},
   "outputs": [
    {
     "name": "stdout",
     "output_type": "stream",
     "text": [
      "no\n"
     ]
    }
   ],
   "source": [
    "list = [1 , 2 , 3 , 4 , 5]\n",
    "if 3 not in list:\n",
    "    print('yes')\n",
    "else:\n",
    "    print('no') # Output: no"
   ]
  },
  {
   "cell_type": "code",
   "execution_count": 12,
   "metadata": {},
   "outputs": [
    {
     "name": "stdout",
     "output_type": "stream",
     "text": [
      "yes\n"
     ]
    }
   ],
   "source": [
    "list = [1 , 2 , 3 , 4 , 5]\n",
    "if 3 in list:\n",
    "    print('yes') # Output: yes\n",
    "else:\n",
    "    print('no')"
   ]
  },
  {
   "cell_type": "markdown",
   "metadata": {},
   "source": [
    "lets do a more complex example of dealing with lists \n",
    "- side note: good pracitce if you have something like 'sports' as your list name, then instead of using 'i' to iterate over it, use 'sport'"
   ]
  },
  {
   "cell_type": "code",
   "execution_count": 21,
   "metadata": {},
   "outputs": [
    {
     "name": "stdout",
     "output_type": "stream",
     "text": [
      "4\n"
     ]
    }
   ],
   "source": [
    "#count number of sports in the list that have 'ball' in their name\n",
    "sports = ['soccer', 'lacrosse' 'basketball', 'tennis', 'baseball', 'football', 'golf', 'hockey', 'volleyball']\n",
    "num_sports_with_ball = 0 #number of sports with 'ball' in the name \n",
    "\n",
    "for sport in sports:\n",
    "    if 'ball' in sport:\n",
    "        num_sports_with_ball += 1\n",
    "\n",
    "print(num_sports_with_ball) # Output: 4\n",
    "\n"
   ]
  }
 ],
 "metadata": {
  "kernelspec": {
   "display_name": "base",
   "language": "python",
   "name": "python3"
  },
  "language_info": {
   "codemirror_mode": {
    "name": "ipython",
    "version": 3
   },
   "file_extension": ".py",
   "mimetype": "text/x-python",
   "name": "python",
   "nbconvert_exporter": "python",
   "pygments_lexer": "ipython3",
   "version": "3.11.5"
  }
 },
 "nbformat": 4,
 "nbformat_minor": 2
}
