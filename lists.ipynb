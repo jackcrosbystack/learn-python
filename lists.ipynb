{
 "cells": [
  {
   "cell_type": "markdown",
   "metadata": {},
   "source": [
    " ## Overview of lists in python.  \n",
    " this notebook will go over how lists work in python: The data structure, accessing elements, slicing, and iterating, and its bult-in functions. \n",
    "author: Jack Crosby"
   ]
  },
  {
   "cell_type": "markdown",
   "metadata": {},
   "source": [
    " **Python Lists: dynamically sized arrays** \n",
    "- a vector in c++\n",
    "- an ArrayList in java\n",
    "\n",
    "What's a dynamically sized array?\n",
    "- \"an array with a big improvement: automatic resizing. One limitation of arrays is that they're fixed size, meaning you need to specify the number of elements your array will hold ahead of time. A dynamic array expands as you add more elements. So you don't need to determine the size ahead of time.\"\n",
    "    -  definition source:\n",
    "        Dynamic Array Data Structure - Interview Cake\n",
    "\n",
    "        Interview Cake\n",
    "        https://www.interviewcake.com › concept › java › dyna...\n",
    "\n",
    "- The basic idea of resizing a dynamic array is to create a new array with a different capacity and copy the elements from the old array to the new one\n",
    "\n",
    "- \"it automatically grows when we try to make an insertion and there is no more space left for the new item. Usually the area doubles in size. A simple dynamic array can be constructed by allocating an array of fixed-size, typically larger than the number of elements immediately required. The elements of the dynamic array are stored contiguously at the start of the underlying array, and the remaining positions towards the end of the underlying array are reserved, or unused. Elements can be added at the end of a dynamic array in constant time by using the reserved space until this space is completely consumed. When all space is consumed, and an additional element is to be added, the underlying fixed-sized array needs to be increased in size. Typically resizing is expensive because you have to allocate a bigger array and copy over all of the elements from the array you have overgrow before we can finally append our item.\" - geeksforgeeks\n",
    "    - Source: https://www.geeksforgeeks.org/how-do-dynamic-arrays-work/\n",
    "\n",
    "\n",
    "-Without the specifics above, we use lists to store multiple items in a single variable. It's just a collection of things.\n",
    "- elements in a list do not have to be distinct \n",
    "\n",
    "-A list can also contain a mix of Python types including strings, floats, and booleans. \n",
    "\n",
    "-So the difference between a list and an array is the size of the list is dynamically allocated (it automatically resizes itself by creating a new lists with a larger capacity with all the elements/items in the original list)\n"
   ]
  },
  {
   "cell_type": "markdown",
   "metadata": {},
   "source": [
    "## List Basics"
   ]
  },
  {
   "cell_type": "code",
   "execution_count": 8,
   "metadata": {},
   "outputs": [],
   "source": [
    "# initializing a list of numbers\n",
    "my_list = [1 , 2 , 3 , 4 , 5]"
   ]
  },
  {
   "cell_type": "markdown",
   "metadata": {},
   "source": [
    "Now `type` is not a list function but I just put it here to show you that python can tell you what data type we are dealing with. This is a built in function that \"returns the type of the objects/data elements stored in any data type or returns a new type object depending on the arguments passed to the function. The Python type() function prints what type of data structures are used to store the data elements in a program\" \n",
    "\n",
    "source: https://www.toppr.com/guides/python-guide/references/methods-and-functions/methods/built-in/type/python-type/#:~:text=Python%20type()%20is%20a,data%20elements%20in%20a%20program."
   ]
  },
  {
   "cell_type": "code",
   "execution_count": 32,
   "metadata": {},
   "outputs": [
    {
     "data": {
      "text/plain": [
       "list"
      ]
     },
     "execution_count": 32,
     "metadata": {},
     "output_type": "execute_result"
    }
   ],
   "source": [
    "type(my_list)  "
   ]
  },
  {
   "cell_type": "code",
   "execution_count": 31,
   "metadata": {},
   "outputs": [
    {
     "name": "stdout",
     "output_type": "stream",
     "text": [
      "<class 'list'>\n"
     ]
    }
   ],
   "source": [
    "print(type(my_list))  # Output: <class 'list'>  "
   ]
  },
  {
   "cell_type": "code",
   "execution_count": 33,
   "metadata": {},
   "outputs": [
    {
     "data": {
      "text/plain": [
       "1"
      ]
     },
     "execution_count": 33,
     "metadata": {},
     "output_type": "execute_result"
    }
   ],
   "source": [
    "# Accessing elements in the list\n",
    "my_list[0]  # Output: 1"
   ]
  },
  {
   "cell_type": "markdown",
   "metadata": {},
   "source": [
    "## Accessing Elements"
   ]
  },
  {
   "cell_type": "markdown",
   "metadata": {},
   "source": [
    "We can access the elements in multiple ways: \n",
    "- list[4] and list[-1] both = 5\n",
    "    - '-1' is the last element of the list, '-2' is 2nd to last and so on \n",
    "        - therefore '-n' where n is the number of elements of the list will access the first element of the list "
   ]
  },
  {
   "cell_type": "code",
   "execution_count": 11,
   "metadata": {},
   "outputs": [
    {
     "name": "stdout",
     "output_type": "stream",
     "text": [
      "5\n",
      "5\n",
      "3\n",
      "True\n",
      "1\n"
     ]
    }
   ],
   "source": [
    "my_list = [1 , 2 , 3 , 4 , 5]\n",
    "print(my_list[4])  # Output: 5\n",
    "print(my_list[-1])  # Output: 5\n",
    "print(my_list[-3]) # Output: 3\n",
    "print(my_list[4] is list[-1])  # Output: True\n",
    "print(my_list[-5]) # Output: 1"
   ]
  },
  {
   "cell_type": "markdown",
   "metadata": {},
   "source": [
    "**Slicing:** \n",
    "- \"in order to access a range of elements in a list, you need to slice a list. One way to do this is to use the simple slicing operator i.e. colon(:). With this operator, one can specify where to start the slicing, where to end, and specify the step. List slicing returns a new list from the existing list.\" -geeksforgeeks\n",
    "\n",
    "**Syntax:**\n",
    "- list[start : end : IndexJump]\n",
    "    - start is inclusive \n",
    "    - end is exclusive \n",
    "    - IndexJump is optional, if you don't include it python will assume you are jumping by 1 index "
   ]
  },
  {
   "cell_type": "code",
   "execution_count": 12,
   "metadata": {},
   "outputs": [
    {
     "name": "stdout",
     "output_type": "stream",
     "text": [
      "[2, 3]\n",
      "[3, 4]\n",
      "[1, 3]\n"
     ]
    }
   ],
   "source": [
    "my_list = [1 , 2 , 3 , 4 , 5]\n",
    "print(my_list[1:3])  # Output: [2, 3]\n",
    "print(my_list[-3:-1]) # Output: [3, 4]\n",
    "print(my_list[0: 4: 2]) # Output: [1, 3]"
   ]
  },
  {
   "cell_type": "markdown",
   "metadata": {},
   "source": [
    "Additional slicing rules and cases \n",
    "- list[start: ]\n",
    "    - this will start at the index specified for 'start' and since we don't provide an 'end' index, it will go all the way to the end\n",
    "- list[ : end] \n",
    "    - same thing applies here but reverse. it will start at the first index and go all the way until the specified end index, only end is exclusive so it the last element printed is the index [end - 1]\n",
    "- list[ : ]\n",
    "    - this will just print the whole list \n",
    "- list[ : : IndexJump]\n",
    "    - this will go from beginning of the list to the end but jump by what you specify 'IndexJump' to be\n",
    "    - you can print the whole list in reverse order by simply list[ : : -1]"
   ]
  },
  {
   "cell_type": "code",
   "execution_count": 13,
   "metadata": {},
   "outputs": [
    {
     "name": "stdout",
     "output_type": "stream",
     "text": [
      "[2, 3, 4, 5]\n",
      "[1, 2, 3]\n",
      "[1, 2, 3, 4, 5]\n",
      "[1, 3, 5]\n",
      "[5, 4, 3, 2, 1]\n",
      "[5, 3, 1]\n"
     ]
    }
   ],
   "source": [
    "my_list = [1 , 2 , 3 , 4 , 5]\n",
    "print(my_list[1 : ]) # Output: [2, 3, 4, 5]\n",
    "print(my_list[ : 3]) # Output: [1, 2, 3]\n",
    "print(my_list[ : ]) # Output: [1, 2, 3, 4, 5]\n",
    "print(my_list[ : : 2]) # Output: [1, 3, 5]\n",
    "print(my_list[ : : -1]) # Output: [5, 4, 3, 2, 1]\n",
    "print(my_list[ : : -2]) # Output: [5, 3, 1]"
   ]
  },
  {
   "cell_type": "markdown",
   "metadata": {},
   "source": [
    "## Iterating Over A List"
   ]
  },
  {
   "cell_type": "markdown",
   "metadata": {},
   "source": [
    "**List Iterating** \n",
    "- we can do a for loop by initialize a variable (literally just say 'i') and the variable will increment until the end of the list. \n",
    "    - 'for i in list' == 'for(int i = 0; i < len(list); i++)'\n",
    "- we can use the range function and use the length function: len()\n",
    "    - 'for i in list' == 'for(int i = 0; i < len(list); i++)'\n",
    "- the difference between the two above is the range function will just keep incrementing i until it's equal to the length of the list, and without the range function, i will increment until it reaches the end of the list. The only differene is one is being compared to a number we got from the range function and the other is compared to how long we can iterate over the list. This may not be the best explanation\n",
    "\n",
    "- we can use a while loop as well but you will have to initialize i and do the increment yourself "
   ]
  },
  {
   "cell_type": "code",
   "execution_count": 14,
   "metadata": {},
   "outputs": [
    {
     "name": "stdout",
     "output_type": "stream",
     "text": [
      "1\n",
      "2\n",
      "3\n",
      "4\n",
      "5\n"
     ]
    }
   ],
   "source": [
    "for i in my_list:\n",
    "    print(i) "
   ]
  },
  {
   "cell_type": "code",
   "execution_count": 15,
   "metadata": {},
   "outputs": [
    {
     "name": "stdout",
     "output_type": "stream",
     "text": [
      "1\n",
      "2\n",
      "3\n",
      "4\n",
      "5\n"
     ]
    }
   ],
   "source": [
    "my_list = [1 , 2 , 3 , 4 , 5]\n",
    "for i in range(len(my_list)):\n",
    "    print(my_list[i]) "
   ]
  },
  {
   "cell_type": "code",
   "execution_count": 16,
   "metadata": {},
   "outputs": [
    {
     "name": "stdout",
     "output_type": "stream",
     "text": [
      "1\n",
      "2\n",
      "3\n",
      "4\n",
      "5\n"
     ]
    }
   ],
   "source": [
    "my_list = [1 , 2 , 3 , 4 , 5]\n",
    "i = 0\n",
    "while i < len(my_list):\n",
    "    print(my_list[i])\n",
    "    i += 1"
   ]
  },
  {
   "cell_type": "markdown",
   "metadata": {},
   "source": [
    "**Checking if an element is in the list** \n",
    "- use `in` to determine if an element is in the list \n",
    "- use `not in` to determine if an element isn't in the list"
   ]
  },
  {
   "cell_type": "code",
   "execution_count": 17,
   "metadata": {},
   "outputs": [
    {
     "name": "stdout",
     "output_type": "stream",
     "text": [
      "True\n"
     ]
    }
   ],
   "source": [
    "my_list = [1 , 2 , 3 , 4 , 5]\n",
    "print(3 in my_list) # Output: True"
   ]
  },
  {
   "cell_type": "code",
   "execution_count": 18,
   "metadata": {},
   "outputs": [
    {
     "name": "stdout",
     "output_type": "stream",
     "text": [
      "True\n"
     ]
    }
   ],
   "source": [
    "my_list = [1 , 2 , 3 , 4 , 5]\n",
    "print(7 not in my_list) # Output: True"
   ]
  },
  {
   "cell_type": "code",
   "execution_count": 19,
   "metadata": {},
   "outputs": [
    {
     "name": "stdout",
     "output_type": "stream",
     "text": [
      "no\n"
     ]
    }
   ],
   "source": [
    "my_list = [1 , 2 , 3 , 4 , 5]\n",
    "if 3 not in my_list:\n",
    "    print('yes')\n",
    "else:\n",
    "    print('no') # Output: no"
   ]
  },
  {
   "cell_type": "code",
   "execution_count": 20,
   "metadata": {},
   "outputs": [
    {
     "name": "stdout",
     "output_type": "stream",
     "text": [
      "yes\n"
     ]
    }
   ],
   "source": [
    "my_list = [1 , 2 , 3 , 4 , 5]\n",
    "if 3 in my_list:\n",
    "    print('yes') # Output: yes\n",
    "else:\n",
    "    print('no')"
   ]
  },
  {
   "cell_type": "markdown",
   "metadata": {},
   "source": [
    "lets do a more realistic example of dealing with lists \n",
    "- **side note:** good pracitce if you have something like 'sports' as your list name, then instead of using 'i' to iterate over it, use 'sport'."
   ]
  },
  {
   "cell_type": "code",
   "execution_count": 21,
   "metadata": {},
   "outputs": [
    {
     "name": "stdout",
     "output_type": "stream",
     "text": [
      "4\n"
     ]
    }
   ],
   "source": [
    "#count number of sports in the list that have 'ball' in their name\n",
    "sports = ['soccer', 'lacrosse' 'basketball', 'tennis', 'baseball', 'football', 'golf', 'hockey', 'volleyball']\n",
    "num_sports_with_ball = 0 #number of sports with 'ball' in the name \n",
    "\n",
    "for sport in sports:\n",
    "    if 'ball' in sport:\n",
    "        num_sports_with_ball += 1\n",
    "\n",
    "print(num_sports_with_ball) # Output: 4"
   ]
  },
  {
   "cell_type": "markdown",
   "metadata": {},
   "source": [
    "## Simple Functions"
   ]
  },
  {
   "cell_type": "markdown",
   "metadata": {},
   "source": [
    "Now let's go over some simple functions. I used the len() and range() function in previous cells. I am assuming you have programmed before, but if you haven't then I will also provide the documentation (or just tell you) what the function is. \n",
    "\n",
    "- `len()`: gives you the length/size of the list\n",
    "    - It doesn't just do this to lists, but since we are dealing with lists here, this is the main way to think of it\n",
    "    - The function parameter must have type object, must be a sequence or a collection\n",
    "        - String: gives number of characters in a string (when the object is a String) \n",
    "        - List: gives number of elements in the list\n",
    "    - These are the only objects we have encountered so far so we'll just leave these parameters here. I will say what this function does when we reach new object types to use as a parameter\n",
    "    \n",
    "\n",
    "- `range()`: \"returns a sequence of numbers, starting from 0 by default, and increments by 1 (by default), and stops before a specified number.\" - https://www.w3schools.com/python/ref_func_range.asp"
   ]
  },
  {
   "cell_type": "markdown",
   "metadata": {},
   "source": [
    "## Shadowing (Side Note)\n",
    "- **IMPORTANT:** DO NOT name your list 'list'\n",
    "    - TypeError: 'list' object is not callable, happens when you try to use the name list as if it were a function, but Python thinks it's a variable.\n",
    "    - so if you name a list 'list', it will overrite the built-in list function\n",
    "    - if you accidentally **shadowed** the built-in list type by assigning it to a variable, you can restore it using the `del` statement\n",
    "\n",
    "    - **Shadowing** refers to a situation in programming where a variable or function in a local scope has the same name as a variable or function in a larger scope (such as a built-in function or a global variable), effectively \"hiding\" or \"overwriting\" the outer one within the current context.\n",
    "        - In Python, this means that if you define a variable with the same name as a built-in function (e.g., list, str, or int), the local definition shadows the built-in function. As a result, you cannot use the built-in function until the shadowing is removed."
   ]
  },
  {
   "cell_type": "code",
   "execution_count": null,
   "metadata": {},
   "outputs": [],
   "source": [
    "del list  # Removes the variable 'list' so the built-in list() function works again"
   ]
  },
  {
   "cell_type": "markdown",
   "metadata": {},
   "source": [
    "**Example of Shadowing**\n",
    "\n",
    "Let's say you accidentally name a variable list, which is the same name as the built-in Python type for lists:"
   ]
  },
  {
   "cell_type": "code",
   "execution_count": 1,
   "metadata": {},
   "outputs": [
    {
     "ename": "TypeError",
     "evalue": "'list' object is not callable",
     "output_type": "error",
     "traceback": [
      "\u001b[0;31m---------------------------------------------------------------------------\u001b[0m",
      "\u001b[0;31mTypeError\u001b[0m                                 Traceback (most recent call last)",
      "\u001b[1;32m/Users/jackcrosby/Documents/learn_python/lists/lists.ipynb Cell 33\u001b[0m line \u001b[0;36m4\n\u001b[1;32m      <a href='vscode-notebook-cell:/Users/jackcrosby/Documents/learn_python/lists/lists.ipynb#X64sZmlsZQ%3D%3D?line=0'>1</a>\u001b[0m \u001b[39mlist\u001b[39m \u001b[39m=\u001b[39m [\u001b[39m1\u001b[39m, \u001b[39m2\u001b[39m, \u001b[39m3\u001b[39m]  \u001b[39m# You accidentally use 'list' as a variable name\u001b[39;00m\n\u001b[1;32m      <a href='vscode-notebook-cell:/Users/jackcrosby/Documents/learn_python/lists/lists.ipynb#X64sZmlsZQ%3D%3D?line=2'>3</a>\u001b[0m \u001b[39m# Now, trying to use the built-in list() function results in an error\u001b[39;00m\n\u001b[0;32m----> <a href='vscode-notebook-cell:/Users/jackcrosby/Documents/learn_python/lists/lists.ipynb#X64sZmlsZQ%3D%3D?line=3'>4</a>\u001b[0m new_list \u001b[39m=\u001b[39m \u001b[39mlist\u001b[39m([\u001b[39m4\u001b[39m, \u001b[39m5\u001b[39m, \u001b[39m6\u001b[39m])\n",
      "\u001b[0;31mTypeError\u001b[0m: 'list' object is not callable"
     ]
    }
   ],
   "source": [
    "list = [1, 2, 3]  # You accidentally use 'list' as a variable name\n",
    "\n",
    "# Now, trying to use the built-in list() function results in an error\n",
    "new_list = list([4, 5, 6])  # TypeError: 'list' object is not callable\n"
   ]
  },
  {
   "cell_type": "markdown",
   "metadata": {},
   "source": [
    "In this example, the local variable list shadows the built-in list() function, preventing you from using it.\n",
    "\n",
    "**How Shadowing Happens:**\n",
    "\n",
    "- **Variable Shadowing:** A variable in a local scope hides a variable or function in an outer or global scope.\n",
    "- **Function Shadowing:** Similarly, a local function with the same name as a global or built-in function will hide the outer function.\n",
    "\n",
    "**Avoiding Shadowing:**\n",
    "\n",
    "Choose descriptive names for variables that don't conflict with Python built-in names like list, str, int, etc.\n",
    "\n",
    "If you've already shadowed a built-in function or type, you can restore access to the original by deleting the variable using `del`:"
   ]
  },
  {
   "cell_type": "code",
   "execution_count": 2,
   "metadata": {},
   "outputs": [],
   "source": [
    "del list  # Removes the local variable 'list', restoring access to the built-in list() function"
   ]
  },
  {
   "cell_type": "markdown",
   "metadata": {},
   "source": [
    "**Why Shadowing is Important to Understand:**\n",
    "\n",
    "Shadowing can lead to bugs because it changes the behavior of your code in unexpected ways, especially when you unintentionally overwrite built-in functions or global variables. Understanding it helps you avoid conflicts and keeps your code clearer and more maintainable."
   ]
  },
  {
   "cell_type": "markdown",
   "metadata": {},
   "source": [
    "**Example with Shadowing Fixed**"
   ]
  },
  {
   "cell_type": "code",
   "execution_count": 4,
   "metadata": {},
   "outputs": [],
   "source": [
    "my_original_list = [1, 2, 3]  # Use a different variable name\n",
    "new_list = list([4, 5, 6])  # Now it works because we didn't shadow the built-in list() function"
   ]
  },
  {
   "cell_type": "markdown",
   "metadata": {},
   "source": [
    "In summary, **shadowing** happens when a local name (variable or function) hides a name from a broader scope, like built-in Python functions or global variables."
   ]
  },
  {
   "cell_type": "markdown",
   "metadata": {},
   "source": [
    "## Back to Functions"
   ]
  },
  {
   "cell_type": "markdown",
   "metadata": {},
   "source": [
    "We can split a string into a list of characters using the `list()` function, each index has one char."
   ]
  },
  {
   "cell_type": "code",
   "execution_count": 28,
   "metadata": {},
   "outputs": [
    {
     "data": {
      "text/plain": [
       "['1', '2', '3']"
      ]
     },
     "execution_count": 28,
     "metadata": {},
     "output_type": "execute_result"
    }
   ],
   "source": [
    "list(\"123\")"
   ]
  },
  {
   "cell_type": "markdown",
   "metadata": {},
   "source": [
    "If the elements are ordinal (numeric) then we can use the `max` and `min` to find the maximum and minimum numeric values in the list "
   ]
  },
  {
   "cell_type": "code",
   "execution_count": 34,
   "metadata": {},
   "outputs": [
    {
     "data": {
      "text/plain": [
       "5"
      ]
     },
     "execution_count": 34,
     "metadata": {},
     "output_type": "execute_result"
    }
   ],
   "source": [
    "max(my_list)"
   ]
  },
  {
   "cell_type": "code",
   "execution_count": 35,
   "metadata": {},
   "outputs": [
    {
     "data": {
      "text/plain": [
       "1"
      ]
     },
     "execution_count": 35,
     "metadata": {},
     "output_type": "execute_result"
    }
   ],
   "source": [
    "min(my_list)"
   ]
  },
  {
   "cell_type": "markdown",
   "metadata": {},
   "source": [
    "You are not limited to using this function just on numbered elements. You can do it with letters as well. \n",
    "- `max`: the furthest down the alphabet \n",
    "- `min`: the earliest in the alphabet"
   ]
  },
  {
   "cell_type": "code",
   "execution_count": 38,
   "metadata": {},
   "outputs": [
    {
     "data": {
      "text/plain": [
       "'e'"
      ]
     },
     "execution_count": 38,
     "metadata": {},
     "output_type": "execute_result"
    }
   ],
   "source": [
    "lettered_list = ['a', 'b', 'c', 'd', 'e']\n",
    "max(lettered_list) # Output: 'e'"
   ]
  },
  {
   "cell_type": "code",
   "execution_count": 37,
   "metadata": {},
   "outputs": [
    {
     "data": {
      "text/plain": [
       "'a'"
      ]
     },
     "execution_count": 37,
     "metadata": {},
     "output_type": "execute_result"
    }
   ],
   "source": [
    "min(lettered_list) # Output: 'a'"
   ]
  },
  {
   "cell_type": "markdown",
   "metadata": {},
   "source": [
    "Remember the list function we just went over? "
   ]
  },
  {
   "cell_type": "code",
   "execution_count": 39,
   "metadata": {},
   "outputs": [
    {
     "data": {
      "text/plain": [
       "'g'"
      ]
     },
     "execution_count": 39,
     "metadata": {},
     "output_type": "execute_result"
    }
   ],
   "source": [
    "max(list(\"abcdefg\")) # Output: 'g'"
   ]
  },
  {
   "cell_type": "code",
   "execution_count": 40,
   "metadata": {},
   "outputs": [
    {
     "data": {
      "text/plain": [
       "'a'"
      ]
     },
     "execution_count": 40,
     "metadata": {},
     "output_type": "execute_result"
    }
   ],
   "source": [
    "min(list(\"abcdefg\")) # Output: 'a'"
   ]
  },
  {
   "cell_type": "markdown",
   "metadata": {},
   "source": [
    "**Concatenate**:\n",
    "\n",
    "- use `+` to concatenate lists\n",
    "    - **string concatenation** is the operation of joining character strings end-to-end. For example, the concatenation of \"snow\" and \"ball\" is \"snowball\""
   ]
  },
  {
   "cell_type": "code",
   "execution_count": 5,
   "metadata": {},
   "outputs": [
    {
     "data": {
      "text/plain": [
       "[1, 2, 3, 4, 5, 6, 7, 8, 9]"
      ]
     },
     "execution_count": 5,
     "metadata": {},
     "output_type": "execute_result"
    }
   ],
   "source": [
    "my_list = [1, 2, 3, 4, 5, 6]\n",
    "my_list + [7, 8, 9]"
   ]
  },
  {
   "cell_type": "markdown",
   "metadata": {},
   "source": [
    "## String Methods"
   ]
  },
  {
   "cell_type": "markdown",
   "metadata": {},
   "source": [
    "**Function** — a set of instructions that perform a task. \n",
    "\n",
    "**Method** — a set of instructions that are associated with an object"
   ]
  },
  {
   "cell_type": "markdown",
   "metadata": {},
   "source": [
    "| Method | \tDescription|    \n",
    "| ------ | ------ | \n",
    "| append() | \tAdds an element at the end of the list   | \n",
    "| clear() | \t    Removes all the elements from the list   | \n",
    "| copy() | \t    Returns a copy of the list   | \n",
    "| count() | \t    Returns the number of elements with the specified value  |  \n",
    "| extend() | \tAdd the elements of a list (or any iterable), to the end of the current list   | \n",
    "| index() | \t    Returns the index of the first element with the specified value   | \n",
    "| insert() | \tAdds an element at the specified position   | \n",
    "| pop() | \t    Removes the element at the specified position   | \n",
    "| remove() | \tRemoves the item with the specified value   | \n",
    "| reverse() | \tReverses the order of the list   | \n",
    "| sort() | \t    Sorts the list   | "
   ]
  }
 ],
 "metadata": {
  "kernelspec": {
   "display_name": "base",
   "language": "python",
   "name": "python3"
  },
  "language_info": {
   "codemirror_mode": {
    "name": "ipython",
    "version": 3
   },
   "file_extension": ".py",
   "mimetype": "text/x-python",
   "name": "python",
   "nbconvert_exporter": "python",
   "pygments_lexer": "ipython3",
   "version": "3.11.5"
  }
 },
 "nbformat": 4,
 "nbformat_minor": 2
}
